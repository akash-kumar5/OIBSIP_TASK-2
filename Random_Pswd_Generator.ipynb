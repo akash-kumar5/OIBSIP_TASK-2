{
 "cells": [
  {
   "cell_type": "code",
   "execution_count": 2,
   "metadata": {},
   "outputs": [
    {
     "name": "stdout",
     "output_type": "stream",
     "text": [
      "Random Password Generator\n",
      "-------------------------\n",
      "\n",
      "Generated Password:\n",
      "'Qj}.auI\n"
     ]
    }
   ],
   "source": [
    "import random\n",
    "import string\n",
    "\n",
    "def get_valid_length():\n",
    "    \"\"\"\n",
    "    Prompt the user for a valid password length.\n",
    "    \"\"\"\n",
    "    while True:\n",
    "        try:\n",
    "            length = int(input(\"Enter the length of the password: \"))\n",
    "            if length > 0:\n",
    "                return length\n",
    "            else:\n",
    "                print(\"Length must be a positive integer.\")\n",
    "        except ValueError:\n",
    "            print(\"Invalid input. Please enter a numeric value.\")\n",
    "\n",
    "def generate_password(length, use_letters=True, use_numbers=True, use_symbols=True):\n",
    "    \"\"\"\n",
    "    Generate a random password based on user-defined criteria.\n",
    "    \"\"\"\n",
    "    characters = \"\"\n",
    "\n",
    "    if use_letters:\n",
    "        characters += string.ascii_letters\n",
    "    if use_numbers:\n",
    "        characters += string.digits\n",
    "    if use_symbols:\n",
    "        characters += string.punctuation\n",
    "\n",
    "    if not characters:\n",
    "        print(\"Error: Please select at least one character set.\")\n",
    "        return None\n",
    "\n",
    "    password = ''.join(random.choice(characters) for _ in range(length))\n",
    "    return password\n",
    "\n",
    "def main():\n",
    "    print(\"Random Password Generator\")\n",
    "    print(\"-------------------------\")\n",
    "\n",
    "    # Get user input for password criteria\n",
    "    length = get_valid_length()\n",
    "    use_letters = input(\"Include letters? (y/n): \").lower() == 'y'\n",
    "    use_numbers = input(\"Include numbers? (y/n): \").lower() == 'y'\n",
    "    use_symbols = input(\"Include symbols? (y/n): \").lower() == 'y'\n",
    "\n",
    "    # Generate password\n",
    "    password = generate_password(length, use_letters, use_numbers, use_symbols)\n",
    "\n",
    "    # Display the generated password\n",
    "    if password:\n",
    "        print(\"\\nGenerated Password:\")\n",
    "        print(password)\n",
    "\n",
    "if __name__ == \"__main__\":\n",
    "    main()\n"
   ]
  }
 ],
 "metadata": {
  "kernelspec": {
   "display_name": "Python 3",
   "language": "python",
   "name": "python3"
  },
  "language_info": {
   "codemirror_mode": {
    "name": "ipython",
    "version": 3
   },
   "file_extension": ".py",
   "mimetype": "text/x-python",
   "name": "python",
   "nbconvert_exporter": "python",
   "pygments_lexer": "ipython3",
   "version": "3.12.0"
  }
 },
 "nbformat": 4,
 "nbformat_minor": 2
}
